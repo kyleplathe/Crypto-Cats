{
 "cells": [
  {
   "cell_type": "code",
   "execution_count": 1,
   "id": "5de72141-97c6-44a1-8b0d-cdd6e6f54bfa",
   "metadata": {},
   "outputs": [],
   "source": [
    "from pycoingecko import CoinGeckoAPI   #Import CoinGeckoAPI\n",
    "cg = CoinGeckoAPI()                    #Create the client 'cg'\n",
    "from datetime import datetime          #Import the datetime module\n",
    "from datetime import date\n",
    "import time\n",
    "import pandas as pd                    #Import pandas"
   ]
  },
  {
   "cell_type": "code",
   "execution_count": 2,
   "id": "0fd6a9f1-2770-4d1d-a93f-a7e0d0c2c6de",
   "metadata": {},
   "outputs": [],
   "source": [
    "coins = []\n",
    "sdt = []\n",
    "ndt = []\n",
    "\n",
    "\n",
    "def get_data():\n",
    "    coinlist()\n",
    "    start_date()\n",
    "    end_date()\n",
    "    \n",
    "    for coin in coins:\n",
    "        crypto(coin, currency = 'usd')\n",
    "        \n",
    "        \n",
    "\n",
    "        \n",
    "def coinlist():               #Asks the user about the coins they want to get data from.\n",
    "    global coins              #Make this global so that the list gets updated.\n",
    "    n = int(input(\"How many coins do you want to retrieve data for? \"))                                      #asks user about the number of coins for which data will be retrieved.\n",
    "    coins = list(map(str,input(\"\\nEnter the coin ids separated by a space : \").strip().split()))[:n]         #asks the user which coins to retrieve data for\n",
    "    return coins\n",
    "\n",
    "def start_date():              #Asks the user for the earliest date on which to retreive data.\n",
    "    global sdt\n",
    "    user_in = input(\"On what date would you like the data to begin from? (yyyy-mm-dd): \")\n",
    "    sdt = date.fromisoformat(user_in)\n",
    "    return sdt\n",
    "\n",
    "def end_date():                 #Asks the user for the latest data for which to retrieve \n",
    "    global ndt\n",
    "    user_in = input(\"On what date would you like the data to end on? (yyyy-mm-dd): \")\n",
    "    ndt = date.fromisoformat(user_in)\n",
    "    return ndt\n",
    "\n",
    "def crypto(coin, currency = 'usd'):             #Gets the crypto data and makes .csv files out of them. coin_id: from coins list, currency: default is 'usd'\n",
    "    \n",
    "    fromdate = sdt                                  #fromdate to unix_timestamp\n",
    "    unix_fromdate = str(int(time.mktime(fromdate.timetuple())))\n",
    "   \n",
    "    todate = ndt                                     #todate to unix_timestamp\n",
    "    unix_todate = str(int(time.mktime(todate.timetuple())))\n",
    "    \n",
    "    dataframe_name = coin +'_df'                                       #names the dataframe\n",
    "    \n",
    "    \n",
    "    price_hist = cg.get_coin_market_chart_range_by_id(id = str(coin),          #gets data from coingecko\n",
    "                                         vs_currency = str(currency),\n",
    "                                         from_timestamp= unix_fromdate,\n",
    "                                         to_timestamp= unix_todate)\n",
    "    \n",
    "    \n",
    "    dataframe_name = pd.json_normalize(price_hist, record_path =['prices'])  #separates date from price and loses the other columns\n",
    "    \n",
    "    dataframe_name = dataframe_name.rename(columns = {0: 'date', 1: coin})    #sets column names\n",
    "    \n",
    "    dataframe_name['date'] = pd.to_datetime(dataframe_name['date'], unit='ms')           #converts the timestamp\n",
    "    \n",
    "    dataframe_name.set_index(\"date\", inplace=True)                                      #sets date column as the index\n",
    "    \n",
    "    file_name = coin\n",
    "    \n",
    "    dataframe_name.to_csv(f'{file_name}.csv')\n",
    "    \n",
    "    return dataframe_name\n",
    "   "
   ]
  },
  {
   "cell_type": "code",
   "execution_count": 3,
   "id": "44a1e264-9bfc-41fc-8b1d-ac10cd047ff6",
   "metadata": {},
   "outputs": [],
   "source": [
    "#initialize som lists\n",
    "coins = []\n",
    "sdt = []\n",
    "ndt = []\n"
   ]
  },
  {
   "cell_type": "code",

   "metadata": {},
   "outputs": [
    {
     "name": "stdin",
     "output_type": "stream",
     "text": [
      "How many coins do you want to retrieve data for?  10\n",
      "\n",

      "On what date would you like the data to begin from? (yyyy-mm-dd):  2017-01-01\n",
      "On what date would you like the data to end on? (yyyy-mm-dd):  2022-05-01\n"
     ]
    },
    {
     "name": "stdout",
     "output_type": "stream",
     "text": [
      "Task complete!\n"
     ]
    }
   ],
   "source": [
    "get_data()\n",
    "print(\"Task complete!\")"
   ]
  },
  {
   "cell_type": "code",
   "execution_count": null,

   "metadata": {},
   "outputs": [],
   "source": []
  }
 ],
 "metadata": {
  "kernelspec": {
   "display_name": "dev",
   "language": "python",
   "name": "dev"
  },
  "language_info": {
   "codemirror_mode": {
    "name": "ipython",
    "version": 3
   },
   "file_extension": ".py",
   "mimetype": "text/x-python",
   "name": "python",
   "nbconvert_exporter": "python",
   "pygments_lexer": "ipython3",
   "version": "3.7.11"
  }
 },
 "nbformat": 4,
 "nbformat_minor": 5
}
