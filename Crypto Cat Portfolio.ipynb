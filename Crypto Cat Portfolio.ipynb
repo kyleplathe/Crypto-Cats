{
 "cells": [
  {
   "cell_type": "markdown",
   "id": "ded8f67e-936f-4825-8052-6a60405551d5",
   "metadata": {},
   "source": [
    "# Crypto Cat(egory)"
   ]
  },
  {
   "cell_type": "markdown",
   "id": "a1ae54b9-3033-4591-879d-f7ad5c982134",
   "metadata": {},
   "source": [
    "In this assessment we will evaluate the performance among various crypto categories and compare the categories & variations to Bitcoin."
   ]
  },
  {
   "cell_type": "code",
   "execution_count": 7,
   "id": "23468d2d-26b6-412a-bdb1-907708c89f9e",
   "metadata": {},
   "outputs": [],
   "source": [
    "# Initial imports\n",
    "# import the time module\n",
    "import datetime\n",
    "import time\n",
    "import matplotlib.pyplot as plt\n",
    "from pycoingecko import CoinGeckoAPI\n",
    "cg = CoinGeckoAPI()"
   ]
  },
  {
   "cell_type": "markdown",
   "id": "8b937bfe-7e82-4d57-aeab-e8fd16eefb85",
   "metadata": {},
   "source": [
    "# Get Data"
   ]
  },
  {
   "cell_type": "code",
   "execution_count": 8,
   "id": "cea32f53-a004-4a33-a890-0a90ac895017",
   "metadata": {},
   "outputs": [],
   "source": [
    "# Add function"
   ]
  },
  {
   "cell_type": "code",
   "execution_count": 9,
   "id": "bae39fab-9d89-4d8e-92bd-eafd81bea68d",
   "metadata": {},
   "outputs": [],
   "source": [
    "def crypto(coin_id, currency):             #coin_id: string, currency: default ‘usd’, fromdate: YYYY, M, D , todate: YYYY, M, D\n",
    "    fromdate = datetime.date(2017, 1, 1)                                   #fromdate to unix_timestamp\n",
    "    unix_fromdate = str(int(time.mktime(fromdate.timetuple())))\n",
    "    todate = datetime.date(2022, 4, 29)                                     #todate to unix_timestamp\n",
    "    unix_todate = str(int(time.mktime(todate.timetuple())))\n",
    "    dataframe_name = coin_id +'_df'       #names the dataframe\n",
    "    \n",
    "    price_hist = cg.get_coin_market_chart_range_by_id(id = str(coin_id),          #gets data from coingecko\n",
    "                                         vs_currency = str(currency),\n",
    "                                         from_timestamp= unix_fromdate,\n",
    "                                         to_timestamp= unix_todate)\n",
    "    dataframe_name = pd.json_normalize(price_hist, record_path =['prices'])  #separates date from price and loses the other columns\n",
    "    dataframe_name = dataframe_name.rename(columns = {0: 'date', 1: 'closing_price'})    #sets column names\n",
    "    dataframe_name['date'] = pd.to_datetime(dataframe_name['date'], unit='ms')#converts the timestamp\n",
    "    dataframe_name.set_index('date', inplace=True) # sets date as index\n",
    "    dataframe_name.columns = pd.MultiIndex.from_product([[coin_id], dataframe_name.columns.tolist()]) #labels dataframe with coin id\n",
    "    \n",
    "    return dataframe_name"
   ]
  },
  {
   "cell_type": "code",
   "execution_count": 10,
   "id": "f2e1d55a-7315-4d21-8787-7d2416b3940d",
   "metadata": {},
   "outputs": [],
   "source": [
    "t = crypto('tether', 'usd')\n",
    "usdc = crypto('usd-coin', 'usd')\n",
    "terra = crypto('terrausd', 'usd')\n",
    "bnb = crypto('binance-usd', 'usd')\n",
    "dai = crypto('dai','usd')"
   ]
  },
  {
   "cell_type": "code",
   "execution_count": null,
   "id": "ff9a9b15-2450-407d-b79b-bf69436bfad6",
   "metadata": {},
   "outputs": [],
   "source": []
  },
  {
   "cell_type": "code",
   "execution_count": 11,
   "id": "5c87517e-8e33-49b8-bfb1-3aaa5f6f13a3",
   "metadata": {},
   "outputs": [
    {
     "data": {
      "text/html": [
       "<div>\n",
       "<style scoped>\n",
       "    .dataframe tbody tr th:only-of-type {\n",
       "        vertical-align: middle;\n",
       "    }\n",
       "\n",
       "    .dataframe tbody tr th {\n",
       "        vertical-align: top;\n",
       "    }\n",
       "\n",
       "    .dataframe thead tr th {\n",
       "        text-align: left;\n",
       "    }\n",
       "\n",
       "    .dataframe thead tr:last-of-type th {\n",
       "        text-align: right;\n",
       "    }\n",
       "</style>\n",
       "<table border=\"1\" class=\"dataframe\">\n",
       "  <thead>\n",
       "    <tr>\n",
       "      <th></th>\n",
       "      <th>tether</th>\n",
       "      <th>usd-coin</th>\n",
       "      <th>terrausd</th>\n",
       "      <th>binance-usd</th>\n",
       "      <th>dai</th>\n",
       "    </tr>\n",
       "    <tr>\n",
       "      <th></th>\n",
       "      <th>closing_price</th>\n",
       "      <th>closing_price</th>\n",
       "      <th>closing_price</th>\n",
       "      <th>closing_price</th>\n",
       "      <th>closing_price</th>\n",
       "    </tr>\n",
       "    <tr>\n",
       "      <th>date</th>\n",
       "      <th></th>\n",
       "      <th></th>\n",
       "      <th></th>\n",
       "      <th></th>\n",
       "      <th></th>\n",
       "    </tr>\n",
       "  </thead>\n",
       "  <tbody>\n",
       "    <tr>\n",
       "      <th>2020-10-02</th>\n",
       "      <td>0.999917</td>\n",
       "      <td>1.000676</td>\n",
       "      <td>1.000277</td>\n",
       "      <td>1.000634</td>\n",
       "      <td>1.011452</td>\n",
       "    </tr>\n",
       "    <tr>\n",
       "      <th>2020-10-03</th>\n",
       "      <td>1.001150</td>\n",
       "      <td>1.001220</td>\n",
       "      <td>1.000277</td>\n",
       "      <td>1.000916</td>\n",
       "      <td>1.012173</td>\n",
       "    </tr>\n",
       "    <tr>\n",
       "      <th>2020-10-04</th>\n",
       "      <td>1.000496</td>\n",
       "      <td>0.999438</td>\n",
       "      <td>0.999434</td>\n",
       "      <td>1.000684</td>\n",
       "      <td>1.006774</td>\n",
       "    </tr>\n",
       "    <tr>\n",
       "      <th>2020-10-05</th>\n",
       "      <td>1.000064</td>\n",
       "      <td>1.000765</td>\n",
       "      <td>1.003115</td>\n",
       "      <td>1.000386</td>\n",
       "      <td>1.009992</td>\n",
       "    </tr>\n",
       "    <tr>\n",
       "      <th>2020-10-06</th>\n",
       "      <td>0.999779</td>\n",
       "      <td>1.001052</td>\n",
       "      <td>1.004147</td>\n",
       "      <td>1.000067</td>\n",
       "      <td>1.010387</td>\n",
       "    </tr>\n",
       "    <tr>\n",
       "      <th>...</th>\n",
       "      <td>...</td>\n",
       "      <td>...</td>\n",
       "      <td>...</td>\n",
       "      <td>...</td>\n",
       "      <td>...</td>\n",
       "    </tr>\n",
       "    <tr>\n",
       "      <th>2022-04-25</th>\n",
       "      <td>1.000219</td>\n",
       "      <td>0.999204</td>\n",
       "      <td>1.002086</td>\n",
       "      <td>0.998512</td>\n",
       "      <td>0.998634</td>\n",
       "    </tr>\n",
       "    <tr>\n",
       "      <th>2022-04-26</th>\n",
       "      <td>1.000162</td>\n",
       "      <td>0.999475</td>\n",
       "      <td>1.002051</td>\n",
       "      <td>1.001009</td>\n",
       "      <td>0.999843</td>\n",
       "    </tr>\n",
       "    <tr>\n",
       "      <th>2022-04-27</th>\n",
       "      <td>1.000501</td>\n",
       "      <td>0.997934</td>\n",
       "      <td>1.002781</td>\n",
       "      <td>1.000736</td>\n",
       "      <td>1.000334</td>\n",
       "    </tr>\n",
       "    <tr>\n",
       "      <th>2022-04-28</th>\n",
       "      <td>0.999849</td>\n",
       "      <td>0.997589</td>\n",
       "      <td>1.001622</td>\n",
       "      <td>1.000549</td>\n",
       "      <td>1.000080</td>\n",
       "    </tr>\n",
       "    <tr>\n",
       "      <th>2022-04-29</th>\n",
       "      <td>0.999654</td>\n",
       "      <td>0.998531</td>\n",
       "      <td>1.000110</td>\n",
       "      <td>0.999651</td>\n",
       "      <td>1.000356</td>\n",
       "    </tr>\n",
       "  </tbody>\n",
       "</table>\n",
       "<p>575 rows × 5 columns</p>\n",
       "</div>"
      ],
      "text/plain": [
       "                  tether      usd-coin      terrausd   binance-usd  \\\n",
       "           closing_price closing_price closing_price closing_price   \n",
       "date                                                                 \n",
       "2020-10-02      0.999917      1.000676      1.000277      1.000634   \n",
       "2020-10-03      1.001150      1.001220      1.000277      1.000916   \n",
       "2020-10-04      1.000496      0.999438      0.999434      1.000684   \n",
       "2020-10-05      1.000064      1.000765      1.003115      1.000386   \n",
       "2020-10-06      0.999779      1.001052      1.004147      1.000067   \n",
       "...                  ...           ...           ...           ...   \n",
       "2022-04-25      1.000219      0.999204      1.002086      0.998512   \n",
       "2022-04-26      1.000162      0.999475      1.002051      1.001009   \n",
       "2022-04-27      1.000501      0.997934      1.002781      1.000736   \n",
       "2022-04-28      0.999849      0.997589      1.001622      1.000549   \n",
       "2022-04-29      0.999654      0.998531      1.000110      0.999651   \n",
       "\n",
       "                     dai  \n",
       "           closing_price  \n",
       "date                      \n",
       "2020-10-02      1.011452  \n",
       "2020-10-03      1.012173  \n",
       "2020-10-04      1.006774  \n",
       "2020-10-05      1.009992  \n",
       "2020-10-06      1.010387  \n",
       "...                  ...  \n",
       "2022-04-25      0.998634  \n",
       "2022-04-26      0.999843  \n",
       "2022-04-27      1.000334  \n",
       "2022-04-28      1.000080  \n",
       "2022-04-29      1.000356  \n",
       "\n",
       "[575 rows x 5 columns]"
      ]
     },
     "execution_count": 11,
     "metadata": {},
     "output_type": "execute_result"
    }
   ],
   "source": [
    "top_5_stable_coins = pd.concat([t, usdc, terra, bnb, dai], axis='columns', join='inner')\n",
    "top_5_stable_coins"
   ]
  },
  {
   "cell_type": "code",
   "execution_count": 12,
   "id": "b51ce96b-015a-4eab-96dd-a2ab313c3d14",
   "metadata": {},
   "outputs": [
    {
     "data": {
      "text/html": [
       "<div>\n",
       "<style scoped>\n",
       "    .dataframe tbody tr th:only-of-type {\n",
       "        vertical-align: middle;\n",
       "    }\n",
       "\n",
       "    .dataframe tbody tr th {\n",
       "        vertical-align: top;\n",
       "    }\n",
       "\n",
       "    .dataframe thead tr th {\n",
       "        text-align: left;\n",
       "    }\n",
       "\n",
       "    .dataframe thead tr:last-of-type th {\n",
       "        text-align: right;\n",
       "    }\n",
       "</style>\n",
       "<table border=\"1\" class=\"dataframe\">\n",
       "  <thead>\n",
       "    <tr>\n",
       "      <th></th>\n",
       "      <th>tether</th>\n",
       "      <th>usd-coin</th>\n",
       "      <th>terrausd</th>\n",
       "      <th>binance-usd</th>\n",
       "      <th>dai</th>\n",
       "    </tr>\n",
       "    <tr>\n",
       "      <th></th>\n",
       "      <th>closing_price</th>\n",
       "      <th>closing_price</th>\n",
       "      <th>closing_price</th>\n",
       "      <th>closing_price</th>\n",
       "      <th>closing_price</th>\n",
       "    </tr>\n",
       "    <tr>\n",
       "      <th>date</th>\n",
       "      <th></th>\n",
       "      <th></th>\n",
       "      <th></th>\n",
       "      <th></th>\n",
       "      <th></th>\n",
       "    </tr>\n",
       "  </thead>\n",
       "  <tbody>\n",
       "    <tr>\n",
       "      <th>2020-10-03</th>\n",
       "      <td>0.001233</td>\n",
       "      <td>0.000544</td>\n",
       "      <td>0.000000</td>\n",
       "      <td>0.000282</td>\n",
       "      <td>0.000713</td>\n",
       "    </tr>\n",
       "    <tr>\n",
       "      <th>2020-10-04</th>\n",
       "      <td>-0.000653</td>\n",
       "      <td>-0.001780</td>\n",
       "      <td>-0.000843</td>\n",
       "      <td>-0.000231</td>\n",
       "      <td>-0.005334</td>\n",
       "    </tr>\n",
       "    <tr>\n",
       "      <th>2020-10-05</th>\n",
       "      <td>-0.000432</td>\n",
       "      <td>0.001328</td>\n",
       "      <td>0.003683</td>\n",
       "      <td>-0.000298</td>\n",
       "      <td>0.003196</td>\n",
       "    </tr>\n",
       "    <tr>\n",
       "      <th>2020-10-06</th>\n",
       "      <td>-0.000285</td>\n",
       "      <td>0.000287</td>\n",
       "      <td>0.001029</td>\n",
       "      <td>-0.000319</td>\n",
       "      <td>0.000391</td>\n",
       "    </tr>\n",
       "    <tr>\n",
       "      <th>2020-10-07</th>\n",
       "      <td>0.001100</td>\n",
       "      <td>0.000626</td>\n",
       "      <td>0.007923</td>\n",
       "      <td>0.001118</td>\n",
       "      <td>0.000671</td>\n",
       "    </tr>\n",
       "  </tbody>\n",
       "</table>\n",
       "</div>"
      ],
      "text/plain": [
       "                  tether      usd-coin      terrausd   binance-usd  \\\n",
       "           closing_price closing_price closing_price closing_price   \n",
       "date                                                                 \n",
       "2020-10-03      0.001233      0.000544      0.000000      0.000282   \n",
       "2020-10-04     -0.000653     -0.001780     -0.000843     -0.000231   \n",
       "2020-10-05     -0.000432      0.001328      0.003683     -0.000298   \n",
       "2020-10-06     -0.000285      0.000287      0.001029     -0.000319   \n",
       "2020-10-07      0.001100      0.000626      0.007923      0.001118   \n",
       "\n",
       "                     dai  \n",
       "           closing_price  \n",
       "date                      \n",
       "2020-10-03      0.000713  \n",
       "2020-10-04     -0.005334  \n",
       "2020-10-05      0.003196  \n",
       "2020-10-06      0.000391  \n",
       "2020-10-07      0.000671  "
      ]
     },
     "execution_count": 12,
     "metadata": {},
     "output_type": "execute_result"
    }
   ],
   "source": [
    "# Calculate Daily Returns\n",
    "all_returns = top_5_stable_coins.pct_change().dropna()\n",
    "all_returns.head()"
   ]
  },
  {
   "cell_type": "code",
   "execution_count": 19,
   "id": "6b5f7c10-09f6-456d-b05b-aca447fefc10",
   "metadata": {},
   "outputs": [
    {
     "data": {
      "text/plain": [
       "date\n",
       "2020-10-03    0.000554\n",
       "2020-10-04   -0.001768\n",
       "2020-10-05    0.001495\n",
       "2020-10-06    0.000221\n",
       "2020-10-07    0.002288\n",
       "Freq: D, dtype: float64"
      ]
     },
     "execution_count": 19,
     "metadata": {},
     "output_type": "execute_result"
    }
   ],
   "source": [
    "# Calculate Portfolio Returns with an equal amount of each stock\n",
    "weights = [1/5, 1/5, 1/5, 1/5, 1/5]\n",
    "\n",
    "\n",
    "portfolio_returns = all_returns.dot(weights)\n",
    "portfolio_returns.head()"
   ]
  },
  {
   "cell_type": "code",
   "execution_count": 16,
   "id": "0f9eaf0d-b81d-4bbc-b499-96e2bb501231",
   "metadata": {},
   "outputs": [
    {
     "ename": "SyntaxError",
     "evalue": "invalid syntax (2791881633.py, line 7)",
     "output_type": "error",
     "traceback": [
      "\u001b[0;36m  File \u001b[0;32m\"/var/folders/xc/gr8gg1v93g7dlwc084h46r3w0000gn/T/ipykernel_5959/2791881633.py\"\u001b[0;36m, line \u001b[0;32m7\u001b[0m\n\u001b[0;31m    tether_weight = 0.2\u001b[0m\n\u001b[0m                ^\u001b[0m\n\u001b[0;31mSyntaxError\u001b[0m\u001b[0;31m:\u001b[0m invalid syntax\n"
     ]
    }
   ],
   "source": [
    "# Get daily average portfolio\n",
    "\n",
    "def get_portfolio(\n",
    "    \n",
    "    all_returns = all_prices.pct_change()\n",
    "    \n",
    "    tether_weight = 0.2\n",
    "    usdc_weight = 0.2\n",
    "    terra_weight = 0.2\n",
    "\n",
    "    portfolio_returns = tether_weight * all_returns[\"tether\"] + usdc_weight * all_returns[\"usd-coin\"] + terra_weight * all_returns[\"terrausd\"]\n",
    "\n",
    "\n",
    ")"
   ]
  },
  {
   "cell_type": "markdown",
   "id": "8361186b-266c-4927-82d9-e9a744331a20",
   "metadata": {},
   "source": [
    "# Stable Coin Portfolio"
   ]
  },
  {
   "cell_type": "code",
   "execution_count": null,
   "id": "1482fdd9-cc7e-4454-be33-b4744cebba5c",
   "metadata": {},
   "outputs": [],
   "source": []
  },
  {
   "cell_type": "markdown",
   "id": "b3c2ee20-1a66-4c5c-872b-0e91b5e33ef5",
   "metadata": {},
   "source": [
    "# NFT Portfolio"
   ]
  },
  {
   "cell_type": "code",
   "execution_count": null,
   "id": "282a771e-09cc-409c-bd29-da2d1d0856dd",
   "metadata": {},
   "outputs": [],
   "source": []
  },
  {
   "cell_type": "markdown",
   "id": "37fe0aab-55ff-4cea-972f-c8089bf340ee",
   "metadata": {},
   "source": [
    "# DeFi Portfolio"
   ]
  },
  {
   "cell_type": "code",
   "execution_count": null,
   "id": "0c4b7616-0ee4-43f5-817a-72d090167556",
   "metadata": {},
   "outputs": [],
   "source": []
  },
  {
   "cell_type": "markdown",
   "id": "10e8d982-2e14-4be7-af11-d6c34c1ff6e3",
   "metadata": {},
   "source": [
    "# Metaverse Portfolio"
   ]
  },
  {
   "cell_type": "code",
   "execution_count": null,
   "id": "ba04ba02-53f9-4c32-90db-594d46a7d0c6",
   "metadata": {},
   "outputs": [],
   "source": []
  },
  {
   "cell_type": "markdown",
   "id": "95d096ea-efd3-41e8-b2b7-dee2352321d5",
   "metadata": {},
   "source": [
    "# Heavy Portfolio"
   ]
  },
  {
   "cell_type": "code",
   "execution_count": null,
   "id": "f474c7ec-3f8f-4599-9a7e-e96d1d46ac5c",
   "metadata": {},
   "outputs": [],
   "source": []
  },
  {
   "cell_type": "markdown",
   "id": "e3c9196e-013f-40cc-8751-07d3f25f7100",
   "metadata": {},
   "source": [
    "# Light Portfolio"
   ]
  },
  {
   "cell_type": "code",
   "execution_count": null,
   "id": "1952de97-16b1-4e51-8183-236f870a4fd8",
   "metadata": {},
   "outputs": [],
   "source": []
  },
  {
   "cell_type": "markdown",
   "id": "a9c75883-5e12-4280-a883-ca6031b37f80",
   "metadata": {},
   "source": [
    "# Combine All Portfolios Returns"
   ]
  },
  {
   "cell_type": "code",
   "execution_count": null,
   "id": "854ca20b-ce9f-4b90-a0e6-ea8dbe5c5311",
   "metadata": {},
   "outputs": [],
   "source": [
    "combined_df = pd.concat([], axis=\"columns\", join=\"inner\")\n",
    "combined_df.head()"
   ]
  },
  {
   "cell_type": "code",
   "execution_count": null,
   "id": "f14eb75e-054d-44ec-aa8c-ad8725fa4fd7",
   "metadata": {},
   "outputs": [],
   "source": []
  },
  {
   "cell_type": "markdown",
   "id": "05168348-62c4-4e02-98f2-d2fe0f6fb5ac",
   "metadata": {},
   "source": [
    "# Conduct Quantitative Analysis"
   ]
  },
  {
   "cell_type": "markdown",
   "id": "f3ca923a-f577-405f-a806-ab7795f4a1c9",
   "metadata": {},
   "source": [
    "In this section we calculate and visualize performance and risk metrics for the portfolios."
   ]
  },
  {
   "cell_type": "markdown",
   "id": "dbce71e0-6c73-45e2-ae04-68c79d5a60e2",
   "metadata": {},
   "source": [
    "## Performance Analysis"
   ]
  },
  {
   "cell_type": "markdown",
   "id": "1ac231b4-d008-49d9-85ff-e573676bf7c5",
   "metadata": {},
   "source": [
    "### Plot the daily returns."
   ]
  },
  {
   "cell_type": "code",
   "execution_count": null,
   "id": "cdbacac8-5653-4c90-bff7-5b0952dbd1f6",
   "metadata": {},
   "outputs": [],
   "source": [
    "# Plot daily returns of all portfolios\n",
    "\n",
    "combined_df.plot(figsize=(10,5))"
   ]
  },
  {
   "cell_type": "markdown",
   "id": "ba5c3af2-7e29-48bf-8cc6-6b900082cb4b",
   "metadata": {},
   "source": [
    "#### Calculate and plot cumulative returns."
   ]
  },
  {
   "cell_type": "code",
   "execution_count": null,
   "id": "a4d0aa86-12f6-49ef-a2f2-92e4bccf85e9",
   "metadata": {},
   "outputs": [],
   "source": [
    "# Calculate cumulative returns of all portfolios\n",
    "combined_cumulative_returns = (1 + combined_df).cumprod()\n",
    "\n",
    "# Plot cumulative returns\n",
    "combined_cumulative_returns.plot(figsize=(10,5))"
   ]
  },
  {
   "cell_type": "markdown",
   "id": "4fd0b6e3-e0e0-48e1-911a-5e312512539d",
   "metadata": {},
   "source": [
    "### ------------------------------------------------"
   ]
  },
  {
   "cell_type": "markdown",
   "id": "794f6e5f-196e-4831-ad98-7c37cd62a3a7",
   "metadata": {},
   "source": [
    "# Rick Analysis"
   ]
  },
  {
   "cell_type": "markdown",
   "id": "a758a743-f4fa-4a84-a2e1-2d6b5ba40752",
   "metadata": {},
   "source": [
    "Determine the risk of each portfolio:"
   ]
  },
  {
   "cell_type": "code",
   "execution_count": null,
   "id": "cdc84ce2-11d8-4b92-8cd4-3c0e6ae77f85",
   "metadata": {},
   "outputs": [],
   "source": [
    "# Box plot to visually show risk\n",
    "combined_df.plot.box(figsize=(25,5))"
   ]
  },
  {
   "cell_type": "markdown",
   "id": "b4ca0e08-3ed2-4500-969f-ff17e5628728",
   "metadata": {},
   "source": [
    "### Calculate Standard Deviations"
   ]
  },
  {
   "cell_type": "code",
   "execution_count": null,
   "id": "aa498b74-f600-4c9f-9c70-906b3599aadd",
   "metadata": {},
   "outputs": [],
   "source": [
    "# Calculate the daily standard deviations of all portfolios\n",
    "combined_daily_std = combined_df.std()\n",
    "combined_daily_std"
   ]
  },
  {
   "cell_type": "markdown",
   "id": "8956247d-4626-4449-80f0-6e6dd620e95c",
   "metadata": {},
   "source": [
    "### Determine which portfolios are riskier than Bitcoin"
   ]
  },
  {
   "cell_type": "code",
   "execution_count": null,
   "id": "27bf01eb-9884-4070-96eb-8d1ffa118a3c",
   "metadata": {},
   "outputs": [],
   "source": [
    "# Calculate  the daily standard deviation of Bitcoin\n",
    "# sp500_daily_std = sp500_df.std()\n",
    "# print(sp500_daily_std)\n",
    "# print(\"\\n\")\n",
    "\n",
    "#Sort highest risk portfolios descending\n",
    "combined_daily_std_risk = combined_daily_std.sort_values(ascending=False)\n",
    "combined_daily_std_risk"
   ]
  },
  {
   "cell_type": "markdown",
   "id": "2c0d2dd6-8139-4c4d-bcfa-71dd668759ed",
   "metadata": {},
   "source": [
    "## Calculate the Annualized Standard Deviation"
   ]
  },
  {
   "cell_type": "code",
   "execution_count": null,
   "id": "dbc74dc3-fa30-46c1-b5f1-1f487099a6d4",
   "metadata": {},
   "outputs": [],
   "source": [
    "# Calculate the annualized standard deviation (252 trading days)\n",
    "combined_annualized_std = combined_daily_std * np.sqrt(252)\n",
    "combined_annualized_std"
   ]
  },
  {
   "cell_type": "markdown",
   "id": "1ca70120-0bc9-4c33-8044-ab4d80492170",
   "metadata": {},
   "source": [
    "## Rolling Statistics"
   ]
  },
  {
   "cell_type": "markdown",
   "id": "50df2271-75d6-435e-8f21-36e89140f1c0",
   "metadata": {},
   "source": [
    "### Calculate and plot rolling std for all portfolios with 21-day window"
   ]
  },
  {
   "cell_type": "code",
   "execution_count": null,
   "id": "244eeba4-a08d-4d95-ac3a-a93a61a914fb",
   "metadata": {},
   "outputs": [],
   "source": [
    "# Calculate the rolling standard deviation for all portfolios using a 21-day window\n",
    "rolling_combined = combined_df.rolling(window=21).std()\n",
    "\n",
    "# Plot the rolling standard deviation\n",
    "rolling_combined.plot(figsize=(10,5))"
   ]
  },
  {
   "cell_type": "markdown",
   "id": "362eeb0d-aecc-4c25-bdb6-4b6e7db9063e",
   "metadata": {},
   "source": [
    "### Calculate and plot the correlation"
   ]
  },
  {
   "cell_type": "code",
   "execution_count": null,
   "id": "fbabb700-051c-4af2-85e0-aaab43bab3cf",
   "metadata": {},
   "outputs": [],
   "source": [
    "# Calculate the correlation\n",
    "correlation = combined_df.corr()\n",
    "\n",
    "# Display de correlation matrix\n",
    "import seaborn as sns\n",
    "sns.heatmap(correlation, vmin=-1, vmax=1)\n",
    "print(correlation)"
   ]
  },
  {
   "cell_type": "markdown",
   "id": "8d945407-6661-455b-ba99-7d92d12d989a",
   "metadata": {},
   "source": [
    "### Calculate and Plot Beta for a chosen portfolio and Bitcoin"
   ]
  },
  {
   "cell_type": "code",
   "execution_count": null,
   "id": "7c074b7d-6f75-41e6-bb02-183fec408da5",
   "metadata": {},
   "outputs": [],
   "source": [
    "# Calculate covariance of a single portfolio\n",
    "covariance = combined_df['SOROS FUND MANAGEMENT LLC'].cov(combined_df['S&P 500'])\n",
    "print(covariance)\n",
    "\n",
    "# Calculate variance of S&P 500\n",
    "variance = combined_df['S&P 500'].var()\n",
    "print(variance)\n",
    "\n",
    "# Computing beta\n",
    "soros_beta = covariance / variance\n",
    "print(soros_beta)\n",
    "\n",
    "# Plot beta trend\n",
    "rolling_covariance = combined_df['SOROS FUND MANAGEMENT LLC'].rolling(window=60).cov(combined_df['S&P 500'])\n",
    "rolling_covariance.plot(figsize=(20, 10), title='Rolling 60-Day Covariance of SOROS Returns vs. S&P 500 Returns')"
   ]
  },
  {
   "cell_type": "markdown",
   "id": "5b0ec0ab-d6e4-4315-8431-c8b09c67b4fc",
   "metadata": {},
   "source": [
    "# Sharpe Ratios"
   ]
  },
  {
   "cell_type": "markdown",
   "id": "5b7c525d-877b-4a6c-bfc5-78dc989be817",
   "metadata": {},
   "source": [
    "### Using the daily returns, calculate and visualize the Sharpe Ratios using a bar plot"
   ]
  },
  {
   "cell_type": "code",
   "execution_count": null,
   "id": "1c761a37-dbd0-4dd4-8169-b94744e8e42c",
   "metadata": {},
   "outputs": [],
   "source": [
    "# Annualized Sharpe Ratios\n",
    "sharpe_ratio = combined_df.mean() / combined_df.std()\n",
    "annualized_sharpe_ratio = np.sqrt(252) * sharpe_ratio\n",
    "annualized_sharpe_ratio"
   ]
  },
  {
   "cell_type": "code",
   "execution_count": null,
   "id": "84cfac3e-4e3f-40a3-9067-169167dcbb6b",
   "metadata": {},
   "outputs": [],
   "source": [
    "# Visualize the sharpe ratios as a bar plot\n",
    "annualized_sharpe_ratio.plot(kind=\"bar\", title=\"Annualized Sharpe Ratios\")"
   ]
  }
 ],
 "metadata": {
  "kernelspec": {
   "display_name": "dev",
   "language": "python",
   "name": "dev"
  },
  "language_info": {
   "codemirror_mode": {
    "name": "ipython",
    "version": 3
   },
   "file_extension": ".py",
   "mimetype": "text/x-python",
   "name": "python",
   "nbconvert_exporter": "python",
   "pygments_lexer": "ipython3",
   "version": "3.7.11"
  }
 },
 "nbformat": 4,
 "nbformat_minor": 5
}
