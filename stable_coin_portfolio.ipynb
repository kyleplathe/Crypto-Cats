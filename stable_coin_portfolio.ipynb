{
 "cells": [
  {
   "cell_type": "markdown",
   "id": "cdaaf134-dce5-4c79-8e6c-9c225bdaf71d",
   "metadata": {},
   "source": [
    "## Import Libraries and Dependencies"
   ]
  },
  {
   "cell_type": "code",

   "id": "657908e0-805a-4445-9916-39a20c37cc27",
   "metadata": {},
   "outputs": [],
   "source": [
    "# Import necessary libraries and dependencies\n",
    "import pandas as pd\n",
    "import numpy as np\n",
    "from pathlib import Path\n",
    "%matplotlib inline\n",
    "\n"
   ]
  },
  {
   "cell_type": "markdown",
   "id": "27862423-92e6-4bd0-bbd4-1681d76049b9",
   "metadata": {},
   "source": [
    "## Set the File Path to the CSVs using the Pathlib Library"
   ]
  },
  {
   "cell_type": "code",

   "id": "fb5b406c-a253-4450-8f38-de65a574c179",
   "metadata": {},
   "outputs": [],
   "source": [
    "# Set the file paths for the CSVs using the Path class from the pathlib library\n",
    "bnb_csv_path = Path(\"stable_coin_csv/binance-usd.csv\")\n",
    "dai_csv_path = Path(\"stable_coin_csv/dai.csv\")\n",
    "frax_csv_path = Path(\"stable_coin_csv/frax.csv\")\n",
    "mim_csv_path = Path(\"stable_coin_csv/magic-internet-money.csv\")\n",
    "usdn_csv_path = Path(\"stable_coin_csv/neutrino.csv\")\n",
    "pax_csv_path = Path(\"stable_coin_csv/paxos-standard.csv\")\n",
    "ust_csv_path = Path(\"stable_coin_csv/terrausd.csv\")\n",
    "usdt_csv_path = Path(\"stable_coin_csv/tether.csv\")\n",
    "usdc_csv_path = Path(\"stable_coin_csv/usd-coin.csv\")\n",
    "tusd_csv_path = Path(\"stable_coin_csv/true-usd.csv\")"
   ]
  },
  {
   "cell_type": "markdown",
   "id": "0f8a3f03-a27d-476a-9aa5-be9589afaf07",
   "metadata": {},
   "source": [
    "## Import the CSVs as Pandas DataFrames"
   ]
  },
  {
   "cell_type": "code",

   "id": "dc2ecb72-18da-4a72-b342-15085784d75c",
   "metadata": {},
   "outputs": [],
   "source": [
    "# Read the daily closing prices of MSFT, set the `date` as a datetime index\n",
    "bnb_df = pd.read_csv(bnb_csv_path, index_col=\"date\", parse_dates=True, infer_datetime_format=True)\n",
    "dai_df = pd.read_csv(dai_csv_path, index_col=\"date\", parse_dates=True, infer_datetime_format=True)\n",
    "frax_df = pd.read_csv(frax_csv_path, index_col=\"date\", parse_dates=True, infer_datetime_format=True)\n",
    "mim_df = pd.read_csv(mim_csv_path, index_col=\"date\", parse_dates=True, infer_datetime_format=True)\n",
    "usdn_df = pd.read_csv(usdn_csv_path, index_col=\"date\", parse_dates=True, infer_datetime_format=True)\n",
    "pax_df = pd.read_csv(pax_csv_path, index_col=\"date\", parse_dates=True, infer_datetime_format=True)\n",
    "ust_df = pd.read_csv(ust_csv_path, index_col=\"date\", parse_dates=True, infer_datetime_format=True)\n",
    "usdt_df = pd.read_csv(usdt_csv_path, index_col=\"date\", parse_dates=True, infer_datetime_format=True)\n",
    "usdc_df = pd.read_csv(usdc_csv_path, index_col=\"date\", parse_dates=True, infer_datetime_format=True)\n",
    "tusd_df = pd.read_csv(tusd_csv_path, index_col=\"date\", parse_dates=True, infer_datetime_format=True)"
   ]
  },
  {
   "cell_type": "markdown",
   "id": "7067eaac-ff3a-43e5-a273-390675d4a9a1",
   "metadata": {},
   "source": [
    "## Combine the DataFrames and Sort the Index"
   ]
  },
  {
   "cell_type": "code",

   "id": "afb49132-9ff8-4a1d-9b95-bae3f9b1defc",
   "metadata": {},
   "outputs": [
    {
     "data": {
      "text/html": [
       "<div>\n",
       "<style scoped>\n",
       "    .dataframe tbody tr th:only-of-type {\n",
       "        vertical-align: middle;\n",
       "    }\n",
       "\n",
       "    .dataframe tbody tr th {\n",
       "        vertical-align: top;\n",
       "    }\n",
       "\n",
       "    .dataframe thead th {\n",
       "        text-align: right;\n",
       "    }\n",
       "</style>\n",
       "<table border=\"1\" class=\"dataframe\">\n",
       "  <thead>\n",
       "    <tr style=\"text-align: right;\">\n",
       "      <th></th>\n",
       "      <th>BNB</th>\n",
       "      <th>DAI</th>\n",
       "      <th>FRAX</th>\n",
       "      <th>MIM</th>\n",
       "      <th>USDN</th>\n",
       "      <th>PAX</th>\n",
       "      <th>UST</th>\n",
       "      <th>USDT</th>\n",
       "      <th>USDC</th>\n",
       "      <th>TUSD</th>\n",
       "    </tr>\n",
       "    <tr>\n",
       "      <th>date</th>\n",
       "      <th></th>\n",
       "      <th></th>\n",
       "      <th></th>\n",
       "      <th></th>\n",
       "      <th></th>\n",
       "      <th></th>\n",
       "      <th></th>\n",
       "      <th></th>\n",
       "      <th></th>\n",
       "      <th></th>\n",
       "    </tr>\n",
       "  </thead>\n",
       "  <tbody>\n",
       "    <tr>\n",
       "      <th>2021-07-01</th>\n",
       "      <td>1.005939</td>\n",
       "      <td>1.003006</td>\n",
       "      <td>1.008715</td>\n",
       "      <td>1.002117</td>\n",
       "      <td>1.006044</td>\n",
       "      <td>1.003730</td>\n",
       "      <td>1.003830</td>\n",
       "      <td>1.004460</td>\n",
       "      <td>1.003276</td>\n",
       "      <td>1.004077</td>\n",
       "    </tr>\n",
       "    <tr>\n",
       "      <th>2021-07-02</th>\n",
       "      <td>1.007472</td>\n",
       "      <td>1.002889</td>\n",
       "      <td>1.005408</td>\n",
       "      <td>1.002117</td>\n",
       "      <td>1.002133</td>\n",
       "      <td>1.003747</td>\n",
       "      <td>1.004322</td>\n",
       "      <td>1.001631</td>\n",
       "      <td>1.004928</td>\n",
       "      <td>1.004896</td>\n",
       "    </tr>\n",
       "    <tr>\n",
       "      <th>2021-07-03</th>\n",
       "      <td>1.005306</td>\n",
       "      <td>1.007008</td>\n",
       "      <td>1.007092</td>\n",
       "      <td>1.006019</td>\n",
       "      <td>1.003450</td>\n",
       "      <td>1.004714</td>\n",
       "      <td>1.004724</td>\n",
       "      <td>1.004324</td>\n",
       "      <td>1.003024</td>\n",
       "      <td>1.004268</td>\n",
       "    </tr>\n",
       "    <tr>\n",
       "      <th>2021-07-04</th>\n",
       "      <td>1.005213</td>\n",
       "      <td>1.002976</td>\n",
       "      <td>1.005690</td>\n",
       "      <td>0.995576</td>\n",
       "      <td>1.002486</td>\n",
       "      <td>1.003662</td>\n",
       "      <td>1.005640</td>\n",
       "      <td>1.003225</td>\n",
       "      <td>1.002549</td>\n",
       "      <td>1.006580</td>\n",
       "    </tr>\n",
       "    <tr>\n",
       "      <th>2021-07-05</th>\n",
       "      <td>1.004266</td>\n",
       "      <td>0.998386</td>\n",
       "      <td>1.002322</td>\n",
       "      <td>0.998593</td>\n",
       "      <td>1.000539</td>\n",
       "      <td>1.002261</td>\n",
       "      <td>1.002448</td>\n",
       "      <td>0.995146</td>\n",
       "      <td>1.001107</td>\n",
       "      <td>1.002127</td>\n",
       "    </tr>\n",
       "  </tbody>\n",
       "</table>\n",
       "</div>"
      ],
      "text/plain": [
       "                 BNB       DAI      FRAX       MIM      USDN       PAX  \\\n",
       "date                                                                     \n",
       "2021-07-01  1.005939  1.003006  1.008715  1.002117  1.006044  1.003730   \n",
       "2021-07-02  1.007472  1.002889  1.005408  1.002117  1.002133  1.003747   \n",
       "2021-07-03  1.005306  1.007008  1.007092  1.006019  1.003450  1.004714   \n",
       "2021-07-04  1.005213  1.002976  1.005690  0.995576  1.002486  1.003662   \n",
       "2021-07-05  1.004266  0.998386  1.002322  0.998593  1.000539  1.002261   \n",
       "\n",
       "                 UST      USDT      USDC      TUSD  \n",
       "date                                                \n",
       "2021-07-01  1.003830  1.004460  1.003276  1.004077  \n",
       "2021-07-02  1.004322  1.001631  1.004928  1.004896  \n",
       "2021-07-03  1.004724  1.004324  1.003024  1.004268  \n",
       "2021-07-04  1.005640  1.003225  1.002549  1.006580  \n",
       "2021-07-05  1.002448  0.995146  1.001107  1.002127  "
      ]
     },

     "metadata": {},
     "output_type": "execute_result"
    }
   ],
   "source": [
    "# Use the concat function to combine the DataFrames by column and perform an inner join. \n",
    "combined_stable_coins_df = pd.concat([bnb_df, dai_df, frax_df, mim_df, usdn_df, pax_df, ust_df, usdt_df, usdc_df, tusd_df], axis=\"columns\", join=\"inner\")\n",
    "\n",
    "# Sort datetime index in ascending order (past to present)\n",
    "combined_stable_coins_df.sort_index(inplace=True)\n",
    "\n",
    "# Set column names\n",
    "combined_stable_coins_df.columns = ['BNB', 'DAI', 'FRAX', 'MIM', 'USDN', 'PAX', 'UST', 'USDT', 'USDC', 'TUSD']\n",
    "\n",
    "# Display a few rows\n",
    "combined_stable_coins_df.head()"
   ]
  },
  {
   "cell_type": "markdown",
   "id": "62f01611-bab8-4baa-9a50-c54e3884c481",
   "metadata": {},
   "source": [
    "## Calculate Daily Returns"
   ]
  },
  {
   "cell_type": "code",

   "id": "364f07fe-720a-4705-b760-dceea76b3bee",
   "metadata": {},
   "outputs": [
    {
     "data": {
      "text/html": [
       "<div>\n",
       "<style scoped>\n",
       "    .dataframe tbody tr th:only-of-type {\n",
       "        vertical-align: middle;\n",
       "    }\n",
       "\n",
       "    .dataframe tbody tr th {\n",
       "        vertical-align: top;\n",
       "    }\n",
       "\n",
       "    .dataframe thead th {\n",
       "        text-align: right;\n",
       "    }\n",
       "</style>\n",
       "<table border=\"1\" class=\"dataframe\">\n",
       "  <thead>\n",
       "    <tr style=\"text-align: right;\">\n",
       "      <th></th>\n",
       "      <th>BNB</th>\n",
       "      <th>DAI</th>\n",
       "      <th>FRAX</th>\n",
       "      <th>MIM</th>\n",
       "      <th>USDN</th>\n",
       "      <th>PAX</th>\n",
       "      <th>UST</th>\n",
       "      <th>USDT</th>\n",
       "      <th>USDC</th>\n",
       "      <th>TUSD</th>\n",
       "    </tr>\n",
       "    <tr>\n",
       "      <th>date</th>\n",
       "      <th></th>\n",
       "      <th></th>\n",
       "      <th></th>\n",
       "      <th></th>\n",
       "      <th></th>\n",
       "      <th></th>\n",
       "      <th></th>\n",
       "      <th></th>\n",
       "      <th></th>\n",
       "      <th></th>\n",
       "    </tr>\n",
       "  </thead>\n",
       "  <tbody>\n",
       "    <tr>\n",
       "      <th>2021-07-02</th>\n",
       "      <td>0.001524</td>\n",
       "      <td>-0.000116</td>\n",
       "      <td>-0.003278</td>\n",
       "      <td>0.000000</td>\n",
       "      <td>-0.003887</td>\n",
       "      <td>0.000017</td>\n",
       "      <td>0.000490</td>\n",
       "      <td>-0.002816</td>\n",
       "      <td>0.001647</td>\n",
       "      <td>0.000816</td>\n",
       "    </tr>\n",
       "    <tr>\n",
       "      <th>2021-07-03</th>\n",
       "      <td>-0.002150</td>\n",
       "      <td>0.004107</td>\n",
       "      <td>0.001674</td>\n",
       "      <td>0.003894</td>\n",
       "      <td>0.001314</td>\n",
       "      <td>0.000964</td>\n",
       "      <td>0.000401</td>\n",
       "      <td>0.002689</td>\n",
       "      <td>-0.001895</td>\n",
       "      <td>-0.000625</td>\n",
       "    </tr>\n",
       "    <tr>\n",
       "      <th>2021-07-04</th>\n",
       "      <td>-0.000092</td>\n",
       "      <td>-0.004004</td>\n",
       "      <td>-0.001392</td>\n",
       "      <td>-0.010381</td>\n",
       "      <td>-0.000961</td>\n",
       "      <td>-0.001048</td>\n",
       "      <td>0.000912</td>\n",
       "      <td>-0.001094</td>\n",
       "      <td>-0.000474</td>\n",
       "      <td>0.002302</td>\n",
       "    </tr>\n",
       "    <tr>\n",
       "      <th>2021-07-05</th>\n",
       "      <td>-0.000942</td>\n",
       "      <td>-0.004577</td>\n",
       "      <td>-0.003349</td>\n",
       "      <td>0.003030</td>\n",
       "      <td>-0.001941</td>\n",
       "      <td>-0.001396</td>\n",
       "      <td>-0.003175</td>\n",
       "      <td>-0.008053</td>\n",
       "      <td>-0.001438</td>\n",
       "      <td>-0.004425</td>\n",
       "    </tr>\n",
       "    <tr>\n",
       "      <th>2021-07-06</th>\n",
       "      <td>-0.003048</td>\n",
       "      <td>0.007519</td>\n",
       "      <td>-0.002265</td>\n",
       "      <td>-0.005440</td>\n",
       "      <td>-0.003721</td>\n",
       "      <td>-0.001488</td>\n",
       "      <td>-0.002653</td>\n",
       "      <td>0.008726</td>\n",
       "      <td>0.000501</td>\n",
       "      <td>-0.003589</td>\n",
       "    </tr>\n",
       "  </tbody>\n",
       "</table>\n",
       "</div>"
      ],
      "text/plain": [
       "                 BNB       DAI      FRAX       MIM      USDN       PAX  \\\n",
       "date                                                                     \n",
       "2021-07-02  0.001524 -0.000116 -0.003278  0.000000 -0.003887  0.000017   \n",
       "2021-07-03 -0.002150  0.004107  0.001674  0.003894  0.001314  0.000964   \n",
       "2021-07-04 -0.000092 -0.004004 -0.001392 -0.010381 -0.000961 -0.001048   \n",
       "2021-07-05 -0.000942 -0.004577 -0.003349  0.003030 -0.001941 -0.001396   \n",
       "2021-07-06 -0.003048  0.007519 -0.002265 -0.005440 -0.003721 -0.001488   \n",
       "\n",
       "                 UST      USDT      USDC      TUSD  \n",
       "date                                                \n",
       "2021-07-02  0.000490 -0.002816  0.001647  0.000816  \n",
       "2021-07-03  0.000401  0.002689 -0.001895 -0.000625  \n",
       "2021-07-04  0.000912 -0.001094 -0.000474  0.002302  \n",
       "2021-07-05 -0.003175 -0.008053 -0.001438 -0.004425  \n",
       "2021-07-06 -0.002653  0.008726  0.000501 -0.003589  "
      ]
     },

     "metadata": {},
     "output_type": "execute_result"
    }
   ],
   "source": [
    "# Use the `pct_change` function to calculate daily returns of closing prices for each column\n",
    "stable_coin_daily_returns = combined_stable_coins_df.pct_change().dropna()\n",
    "stable_coin_daily_returns.head()"
   ]
  },
  {
   "cell_type": "markdown",
   "id": "4e06ede5-fdc2-4e4b-b1a4-6ed351f9d6d1",
   "metadata": {},
   "source": [
    "### Evaluate Riskiness of Stocks"
   ]
  },
  {
   "cell_type": "code",

   "id": "2b0cfcd9-638d-4711-82cc-32a700a9be16",
   "metadata": {},
   "outputs": [
    {
     "data": {
      "text/plain": [
       "USDC    0.041331\n",
       "USDT    0.043255\n",
       "TUSD    0.043830\n",
       "BNB     0.044395\n",
       "UST     0.046606\n",
       "DAI     0.046806\n",
       "PAX     0.047339\n",
       "MIM     0.071748\n",
       "FRAX    0.089769\n",
       "USDN    0.230765\n",
       "dtype: float64"
      ]
     },

     "metadata": {},
     "output_type": "execute_result"
    }
   ],
   "source": [
    "# Use the `std` function and multiply by the square root of the number of trading days in a year to get annualized volatility\n",
    "volatility = stable_coin_daily_returns.std() * np.sqrt(252)\n",
    "volatility.sort_values(inplace=True)\n",
    "volatility"
   ]
  },
  {
   "cell_type": "markdown",
   "id": "6a759f2c-1dad-47ea-94e7-fbe07a33b002",
   "metadata": {},
   "source": [
    "### Drop High Volatility Stocks"
   ]
  },
  {
   "cell_type": "code",

   "id": "d34cee83-aa91-45a2-9ff3-ea7fdd6ebc06",
   "metadata": {},
   "outputs": [
    {
     "data": {
      "text/html": [
       "<div>\n",
       "<style scoped>\n",
       "    .dataframe tbody tr th:only-of-type {\n",
       "        vertical-align: middle;\n",
       "    }\n",
       "\n",
       "    .dataframe tbody tr th {\n",
       "        vertical-align: top;\n",
       "    }\n",
       "\n",
       "    .dataframe thead th {\n",
       "        text-align: right;\n",
       "    }\n",
       "</style>\n",
       "<table border=\"1\" class=\"dataframe\">\n",
       "  <thead>\n",
       "    <tr style=\"text-align: right;\">\n",
       "      <th></th>\n",
       "      <th>BNB</th>\n",
       "      <th>DAI</th>\n",
       "      <th>FRAX</th>\n",
       "      <th>MIM</th>\n",
       "      <th>PAX</th>\n",
       "      <th>UST</th>\n",
       "      <th>USDT</th>\n",
       "      <th>USDC</th>\n",
       "      <th>TUSD</th>\n",
       "    </tr>\n",
       "    <tr>\n",
       "      <th>date</th>\n",
       "      <th></th>\n",
       "      <th></th>\n",
       "      <th></th>\n",
       "      <th></th>\n",
       "      <th></th>\n",
       "      <th></th>\n",
       "      <th></th>\n",
       "      <th></th>\n",
       "      <th></th>\n",
       "    </tr>\n",
       "  </thead>\n",
       "  <tbody>\n",
       "    <tr>\n",
       "      <th>2021-07-02</th>\n",
       "      <td>0.001524</td>\n",
       "      <td>-0.000116</td>\n",
       "      <td>-0.003278</td>\n",
       "      <td>0.000000</td>\n",
       "      <td>0.000017</td>\n",
       "      <td>0.000490</td>\n",
       "      <td>-0.002816</td>\n",
       "      <td>0.001647</td>\n",
       "      <td>0.000816</td>\n",
       "    </tr>\n",
       "    <tr>\n",
       "      <th>2021-07-03</th>\n",
       "      <td>-0.002150</td>\n",
       "      <td>0.004107</td>\n",
       "      <td>0.001674</td>\n",
       "      <td>0.003894</td>\n",
       "      <td>0.000964</td>\n",
       "      <td>0.000401</td>\n",
       "      <td>0.002689</td>\n",
       "      <td>-0.001895</td>\n",
       "      <td>-0.000625</td>\n",
       "    </tr>\n",
       "    <tr>\n",
       "      <th>2021-07-04</th>\n",
       "      <td>-0.000092</td>\n",
       "      <td>-0.004004</td>\n",
       "      <td>-0.001392</td>\n",
       "      <td>-0.010381</td>\n",
       "      <td>-0.001048</td>\n",
       "      <td>0.000912</td>\n",
       "      <td>-0.001094</td>\n",
       "      <td>-0.000474</td>\n",
       "      <td>0.002302</td>\n",
       "    </tr>\n",
       "    <tr>\n",
       "      <th>2021-07-05</th>\n",
       "      <td>-0.000942</td>\n",
       "      <td>-0.004577</td>\n",
       "      <td>-0.003349</td>\n",
       "      <td>0.003030</td>\n",
       "      <td>-0.001396</td>\n",
       "      <td>-0.003175</td>\n",
       "      <td>-0.008053</td>\n",
       "      <td>-0.001438</td>\n",
       "      <td>-0.004425</td>\n",
       "    </tr>\n",
       "    <tr>\n",
       "      <th>2021-07-06</th>\n",
       "      <td>-0.003048</td>\n",
       "      <td>0.007519</td>\n",
       "      <td>-0.002265</td>\n",
       "      <td>-0.005440</td>\n",
       "      <td>-0.001488</td>\n",
       "      <td>-0.002653</td>\n",
       "      <td>0.008726</td>\n",
       "      <td>0.000501</td>\n",
       "      <td>-0.003589</td>\n",
       "    </tr>\n",
       "  </tbody>\n",
       "</table>\n",
       "</div>"
      ],
      "text/plain": [
       "                 BNB       DAI      FRAX       MIM       PAX       UST  \\\n",
       "date                                                                     \n",
       "2021-07-02  0.001524 -0.000116 -0.003278  0.000000  0.000017  0.000490   \n",
       "2021-07-03 -0.002150  0.004107  0.001674  0.003894  0.000964  0.000401   \n",
       "2021-07-04 -0.000092 -0.004004 -0.001392 -0.010381 -0.001048  0.000912   \n",
       "2021-07-05 -0.000942 -0.004577 -0.003349  0.003030 -0.001396 -0.003175   \n",
       "2021-07-06 -0.003048  0.007519 -0.002265 -0.005440 -0.001488 -0.002653   \n",
       "\n",
       "                USDT      USDC      TUSD  \n",
       "date                                      \n",
       "2021-07-02 -0.002816  0.001647  0.000816  \n",
       "2021-07-03  0.002689 -0.001895 -0.000625  \n",
       "2021-07-04 -0.001094 -0.000474  0.002302  \n",
       "2021-07-05 -0.008053 -0.001438 -0.004425  \n",
       "2021-07-06  0.008726  0.000501 -0.003589  "
      ]
     },

     "metadata": {},
     "output_type": "execute_result"
    }
   ],
   "source": [
    "# Drop the five stocks with the highest volatility in daily returns\n",
    "stable_coin_daily_returns.drop(columns=['USDN'], inplace=True)\n",
    "stable_coin_daily_returns.head()"
   ]
  },
  {
   "cell_type": "markdown",
   "id": "33387bad-2816-4e9c-af4a-4a789df6167e",
   "metadata": {},
   "source": [
    "## Calculate Daily Portfolio Returns"
   ]
  },
  {
   "cell_type": "code",

   "id": "354b8028-210f-4b22-b8e5-fd831ab82006",
   "metadata": {},
   "outputs": [
    {
     "data": {
      "text/plain": [
       "date\n",

     "metadata": {},
     "output_type": "execute_result"
    }
   ],
   "source": [
    "# Use the `dot` function to multiply the weights by each stock's daily return to get the portfolio daily return\n",

    "\n",
    "portfolio_returns = stable_coin_daily_returns.dot(weights)\n",
    "portfolio_returns.head()"
   ]
  },
  {
   "cell_type": "markdown",
   "id": "7cf44f72-54b9-4581-9989-da76b29f8450",
   "metadata": {},
   "source": [
    "## Plot Daily Portfolio Returns"
   ]
  },
  {
   "cell_type": "code",

   "id": "0fc5126a-839d-49f2-96b9-55e087119035",
   "metadata": {},
   "outputs": [
    {
     "data": {
      "text/plain": [
       "<AxesSubplot:xlabel='date'>"
      ]
     },

     "metadata": {},
     "output_type": "execute_result"
    },
    {
     "data": {

      "text/plain": [
       "<Figure size 432x288 with 1 Axes>"
      ]
     },
     "metadata": {
      "needs_background": "light"
     },
     "output_type": "display_data"
    }
   ],
   "source": [
    "# Use the `plot` function to plot the daily portfolio returns\n",
    "portfolio_returns.plot()"
   ]
  },
  {
   "cell_type": "markdown",
   "id": "b6cd6bbc-7320-4e85-8253-7629b8a74623",
   "metadata": {},
   "source": [
    "## Calculate Cumulative Portfolio Returns"
   ]
  },
  {
   "cell_type": "code",

   "id": "6ca29b85-a1fa-4d83-ac5b-aba435642291",
   "metadata": {},
   "outputs": [
    {
     "data": {
      "text/plain": [
       "date\n",

     "metadata": {},
     "output_type": "execute_result"
    }
   ],
   "source": [
    "# Use the `cumprod` function to cumulatively multiply each element in the Series by it's preceding element until the end\n",
    "cumulative_returns = (1 + portfolio_returns).cumprod() - 1\n",
    "cumulative_returns.head()"
   ]
  },
  {
   "cell_type": "markdown",
   "id": "1dfeb864-868a-40b2-b41d-364a20c9fa58",
   "metadata": {},
   "source": [
    "## Plot Cumulative Portfolio Returns"
   ]
  },
  {
   "cell_type": "code",

   "id": "cffc4493-6721-4660-aec3-cbf9a0432a3b",
   "metadata": {},
   "outputs": [
    {
     "data": {
      "text/plain": [
       "<AxesSubplot:xlabel='date'>"
      ]
     },

     "metadata": {},
     "output_type": "execute_result"
    },
    {
     "data": {

      "text/plain": [
       "<Figure size 432x288 with 1 Axes>"
      ]
     },
     "metadata": {
      "needs_background": "light"
     },
     "output_type": "display_data"
    }
   ],
   "source": [
    "# Use the `plot` function to plot the cumulative portfolio returns\n",
    "cumulative_returns.plot()"
   ]
  },
  {
   "cell_type": "markdown",
   "id": "30042516-cb30-4d31-b23e-542a0d1be24f",
   "metadata": {},
   "source": [
    "## Calculate std dev for all stable coins"
   ]
  },
  {
   "cell_type": "code",

   "id": "c703f524-74b3-4bd6-b840-423716557285",
   "metadata": {},
   "outputs": [
    {
     "data": {
      "text/plain": [
       "BNB     0.002797\n",
       "DAI     0.002948\n",
       "FRAX    0.005655\n",
       "MIM     0.004520\n",
       "PAX     0.002982\n",
       "UST     0.002936\n",
       "USDT    0.002725\n",
       "USDC    0.002604\n",
       "TUSD    0.002761\n",
       "dtype: float64"
      ]
     },

     "metadata": {},
     "output_type": "execute_result"
    }
   ],
   "source": [
    "# Calculate std dev\n",
    "stable_coin_std = stable_coin_daily_returns.std()\n",
    "stable_coin_std"
   ]
  },
  {
   "cell_type": "markdown",
   "id": "4d97e95d-c6b2-4ea4-913f-85dc1ae5c7ac",
   "metadata": {},
   "source": [
    "## Calculate sharpe ratio for all data"
   ]
  },
  {
   "cell_type": "code",

   "id": "d62438e6-880b-4f2a-b596-c179e4c854ad",
   "metadata": {},
   "outputs": [
    {
     "data": {
      "text/plain": [
       "BNB    -0.069107\n",
       "DAI    -0.009681\n",
       "FRAX   -0.019514\n",
       "MIM     0.012017\n",
       "PAX    -0.027905\n",
       "dtype: float64"
      ]
     },

     "metadata": {},
     "output_type": "execute_result"
    }
   ],
   "source": [
    "# Calculate sharpe ratio\n",
    "sharpe_ratios = (stable_coin_daily_returns.mean() * 252) / (stable_coin_std * np.sqrt(252))\n",
    "sharpe_ratios.head()"
   ]
  },
  {
   "cell_type": "markdown",
   "id": "834668bf-85c8-468c-bc57-6d896666e9cc",
   "metadata": {},
   "source": [
    "## Plot Sharpe Ratios"
   ]
  },
  {
   "cell_type": "code",
   "execution_count": 44,
   "id": "85b834d6-18e2-40a5-8169-fbe1a78ec397",
   "metadata": {},
   "outputs": [
    {
     "data": {
      "text/plain": [
       "<AxesSubplot:title={'center':'Sharpe Ratios'}>"
      ]
     },
     "execution_count": 44,
     "metadata": {},
     "output_type": "execute_result"
    },
    {
     "data": {
      "image/png": "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\n",
      "text/plain": [
       "<Figure size 432x288 with 1 Axes>"
      ]
     },
     "metadata": {
      "needs_background": "light"
     },
     "output_type": "display_data"
    }
   ],
   "source": [
    "# Plot\n",
    "sharpe_ratios.plot.bar(title='Sharpe Ratios')"
   ]
  },
  {
   "cell_type": "code",
   "execution_count": null,
   "id": "26c44109-f698-4404-8b0e-a8915b668b27",
   "metadata": {},
   "outputs": [],
   "source": []
  },
  {
   "cell_type": "code",
   "execution_count": null,
   "id": "ab604380-5ea2-4e1c-a23a-555dd817b400",
   "metadata": {},
   "outputs": [],
   "source": []
  },
  {
   "cell_type": "code",
   "execution_count": null,
   "id": "aab26b08-ea13-4744-a576-dca6575fc43e",
   "metadata": {},
   "outputs": [],
   "source": []
  }
 ],
 "metadata": {
  "kernelspec": {
   "display_name": "dev",
   "language": "python",
   "name": "dev"
  },
  "language_info": {
   "codemirror_mode": {
    "name": "ipython",
    "version": 3
   },
   "file_extension": ".py",
   "mimetype": "text/x-python",
   "name": "python",
   "nbconvert_exporter": "python",
   "pygments_lexer": "ipython3",
   "version": "3.7.11"
  }
 },
 "nbformat": 4,
 "nbformat_minor": 5
}
