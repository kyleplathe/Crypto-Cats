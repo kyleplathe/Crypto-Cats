{
 "cells": [
  {
   "cell_type": "markdown",
   "id": "cdaaf134-dce5-4c79-8e6c-9c225bdaf71d",
   "metadata": {},
   "source": [
    "## Import Libraries and Dependencies"
   ]
  },
  {
   "cell_type": "code",
   "execution_count": 46,
   "id": "657908e0-805a-4445-9916-39a20c37cc27",
   "metadata": {},
   "outputs": [],
   "source": [
    "# Import necessary libraries and dependencies\n",
    "import pandas as pd\n",
    "import numpy as np\n",
    "from pathlib import Path\n",
    "%matplotlib inline\n",
    "\n"
   ]
  },
  {
   "cell_type": "markdown",
   "id": "27862423-92e6-4bd0-bbd4-1681d76049b9",
   "metadata": {},
   "source": [
    "## Set the File Path to the CSVs using the Pathlib Library"
   ]
  },
  {
   "cell_type": "code",
   "execution_count": 23,
   "id": "fb5b406c-a253-4450-8f38-de65a574c179",
   "metadata": {},
   "outputs": [],
   "source": [
    "# Set the file paths for the CSVs using the Path class from the pathlib library\n",
    "bnb_csv_path = Path(\"stable_coin_csv/binance-usd.csv\")\n",
    "dai_csv_path = Path(\"stable_coin_csv/dai.csv\")\n",
    "frax_csv_path = Path(\"stable_coin_csv/frax.csv\")\n",
    "mim_csv_path = Path(\"stable_coin_csv/magic-internet-money.csv\")\n",
    "usdn_csv_path = Path(\"stable_coin_csv/neutrino.csv\")\n",
    "pax_csv_path = Path(\"stable_coin_csv/paxos-standard.csv\")\n",
    "ust_csv_path = Path(\"stable_coin_csv/terrausd.csv\")\n",
    "usdt_csv_path = Path(\"stable_coin_csv/tether.csv\")\n",
    "usdc_csv_path = Path(\"stable_coin_csv/usd-coin.csv\")\n",
    "tusd_csv_path = Path(\"stable_coin_csv/true-usd.csv\")"
   ]
  },
  {
   "cell_type": "markdown",
   "id": "0f8a3f03-a27d-476a-9aa5-be9589afaf07",
   "metadata": {},
   "source": [
    "## Import the CSVs as Pandas DataFrames"
   ]
  },
  {
   "cell_type": "code",
   "execution_count": 24,
   "id": "dc2ecb72-18da-4a72-b342-15085784d75c",
   "metadata": {},
   "outputs": [],
   "source": [
    "# Read the daily closing prices of MSFT, set the `date` as a datetime index\n",
    "bnb_df = pd.read_csv(bnb_csv_path, index_col=\"date\", parse_dates=True, infer_datetime_format=True)\n",
    "dai_df = pd.read_csv(dai_csv_path, index_col=\"date\", parse_dates=True, infer_datetime_format=True)\n",
    "frax_df = pd.read_csv(frax_csv_path, index_col=\"date\", parse_dates=True, infer_datetime_format=True)\n",
    "mim_df = pd.read_csv(mim_csv_path, index_col=\"date\", parse_dates=True, infer_datetime_format=True)\n",
    "usdn_df = pd.read_csv(usdn_csv_path, index_col=\"date\", parse_dates=True, infer_datetime_format=True)\n",
    "pax_df = pd.read_csv(pax_csv_path, index_col=\"date\", parse_dates=True, infer_datetime_format=True)\n",
    "ust_df = pd.read_csv(ust_csv_path, index_col=\"date\", parse_dates=True, infer_datetime_format=True)\n",
    "usdt_df = pd.read_csv(usdt_csv_path, index_col=\"date\", parse_dates=True, infer_datetime_format=True)\n",
    "usdc_df = pd.read_csv(usdc_csv_path, index_col=\"date\", parse_dates=True, infer_datetime_format=True)\n",
    "tusd_df = pd.read_csv(tusd_csv_path, index_col=\"date\", parse_dates=True, infer_datetime_format=True)"
   ]
  },
  {
   "cell_type": "markdown",
   "id": "7067eaac-ff3a-43e5-a273-390675d4a9a1",
   "metadata": {},
   "source": [
    "## Combine the DataFrames and Sort the Index"
   ]
  },
  {
   "cell_type": "code",
   "execution_count": 25,
   "id": "afb49132-9ff8-4a1d-9b95-bae3f9b1defc",
   "metadata": {},
   "outputs": [
    {
     "data": {
      "text/html": [
       "<div>\n",
       "<style scoped>\n",
       "    .dataframe tbody tr th:only-of-type {\n",
       "        vertical-align: middle;\n",
       "    }\n",
       "\n",
       "    .dataframe tbody tr th {\n",
       "        vertical-align: top;\n",
       "    }\n",
       "\n",
       "    .dataframe thead th {\n",
       "        text-align: right;\n",
       "    }\n",
       "</style>\n",
       "<table border=\"1\" class=\"dataframe\">\n",
       "  <thead>\n",
       "    <tr style=\"text-align: right;\">\n",
       "      <th></th>\n",
       "      <th>BNB</th>\n",
       "      <th>DAI</th>\n",
       "      <th>FRAX</th>\n",
       "      <th>MIM</th>\n",
       "      <th>USDN</th>\n",
       "      <th>PAX</th>\n",
       "      <th>UST</th>\n",
       "      <th>USDT</th>\n",
       "      <th>USDC</th>\n",
       "      <th>TUSD</th>\n",
       "    </tr>\n",
       "    <tr>\n",
       "      <th>date</th>\n",
       "      <th></th>\n",
       "      <th></th>\n",
       "      <th></th>\n",
       "      <th></th>\n",
       "      <th></th>\n",
       "      <th></th>\n",
       "      <th></th>\n",
       "      <th></th>\n",
       "      <th></th>\n",
       "      <th></th>\n",
       "    </tr>\n",
       "  </thead>\n",
       "  <tbody>\n",
       "    <tr>\n",
       "      <th>2021-07-01</th>\n",
       "      <td>1.005939</td>\n",
       "      <td>1.003006</td>\n",
       "      <td>1.008715</td>\n",
       "      <td>1.002117</td>\n",
       "      <td>1.006044</td>\n",
       "      <td>1.003730</td>\n",
       "      <td>1.003830</td>\n",
       "      <td>1.004460</td>\n",
       "      <td>1.003276</td>\n",
       "      <td>1.004077</td>\n",
       "    </tr>\n",
       "    <tr>\n",
       "      <th>2021-07-02</th>\n",
       "      <td>1.007472</td>\n",
       "      <td>1.002889</td>\n",
       "      <td>1.005408</td>\n",
       "      <td>1.002117</td>\n",
       "      <td>1.002133</td>\n",
       "      <td>1.003747</td>\n",
       "      <td>1.004322</td>\n",
       "      <td>1.001631</td>\n",
       "      <td>1.004928</td>\n",
       "      <td>1.004896</td>\n",
       "    </tr>\n",
       "    <tr>\n",
       "      <th>2021-07-03</th>\n",
       "      <td>1.005306</td>\n",
       "      <td>1.007008</td>\n",
       "      <td>1.007092</td>\n",
       "      <td>1.006019</td>\n",
       "      <td>1.003450</td>\n",
       "      <td>1.004714</td>\n",
       "      <td>1.004724</td>\n",
       "      <td>1.004324</td>\n",
       "      <td>1.003024</td>\n",
       "      <td>1.004268</td>\n",
       "    </tr>\n",
       "    <tr>\n",
       "      <th>2021-07-04</th>\n",
       "      <td>1.005213</td>\n",
       "      <td>1.002976</td>\n",
       "      <td>1.005690</td>\n",
       "      <td>0.995576</td>\n",
       "      <td>1.002486</td>\n",
       "      <td>1.003662</td>\n",
       "      <td>1.005640</td>\n",
       "      <td>1.003225</td>\n",
       "      <td>1.002549</td>\n",
       "      <td>1.006580</td>\n",
       "    </tr>\n",
       "    <tr>\n",
       "      <th>2021-07-05</th>\n",
       "      <td>1.004266</td>\n",
       "      <td>0.998386</td>\n",
       "      <td>1.002322</td>\n",
       "      <td>0.998593</td>\n",
       "      <td>1.000539</td>\n",
       "      <td>1.002261</td>\n",
       "      <td>1.002448</td>\n",
       "      <td>0.995146</td>\n",
       "      <td>1.001107</td>\n",
       "      <td>1.002127</td>\n",
       "    </tr>\n",
       "  </tbody>\n",
       "</table>\n",
       "</div>"
      ],
      "text/plain": [
       "                 BNB       DAI      FRAX       MIM      USDN       PAX  \\\n",
       "date                                                                     \n",
       "2021-07-01  1.005939  1.003006  1.008715  1.002117  1.006044  1.003730   \n",
       "2021-07-02  1.007472  1.002889  1.005408  1.002117  1.002133  1.003747   \n",
       "2021-07-03  1.005306  1.007008  1.007092  1.006019  1.003450  1.004714   \n",
       "2021-07-04  1.005213  1.002976  1.005690  0.995576  1.002486  1.003662   \n",
       "2021-07-05  1.004266  0.998386  1.002322  0.998593  1.000539  1.002261   \n",
       "\n",
       "                 UST      USDT      USDC      TUSD  \n",
       "date                                                \n",
       "2021-07-01  1.003830  1.004460  1.003276  1.004077  \n",
       "2021-07-02  1.004322  1.001631  1.004928  1.004896  \n",
       "2021-07-03  1.004724  1.004324  1.003024  1.004268  \n",
       "2021-07-04  1.005640  1.003225  1.002549  1.006580  \n",
       "2021-07-05  1.002448  0.995146  1.001107  1.002127  "
      ]
     },
     "execution_count": 25,
     "metadata": {},
     "output_type": "execute_result"
    }
   ],
   "source": [
    "# Use the concat function to combine the DataFrames by column and perform an inner join. \n",
    "combined_stable_coins_df = pd.concat([bnb_df, dai_df, frax_df, mim_df, usdn_df, pax_df, ust_df, usdt_df, usdc_df, tusd_df], axis=\"columns\", join=\"inner\")\n",
    "\n",
    "# Sort datetime index in ascending order (past to present)\n",
    "combined_stable_coins_df.sort_index(inplace=True)\n",
    "\n",
    "# Set column names\n",
    "combined_stable_coins_df.columns = ['BNB', 'DAI', 'FRAX', 'MIM', 'USDN', 'PAX', 'UST', 'USDT', 'USDC', 'TUSD']\n",
    "\n",
    "# Display a few rows\n",
    "combined_stable_coins_df.head()"
   ]
  },
  {
   "cell_type": "markdown",
   "id": "62f01611-bab8-4baa-9a50-c54e3884c481",
   "metadata": {},
   "source": [
    "## Calculate Daily Returns"
   ]
  },
  {
   "cell_type": "code",
   "execution_count": 26,
   "id": "364f07fe-720a-4705-b760-dceea76b3bee",
   "metadata": {},
   "outputs": [
    {
     "data": {
      "text/html": [
       "<div>\n",
       "<style scoped>\n",
       "    .dataframe tbody tr th:only-of-type {\n",
       "        vertical-align: middle;\n",
       "    }\n",
       "\n",
       "    .dataframe tbody tr th {\n",
       "        vertical-align: top;\n",
       "    }\n",
       "\n",
       "    .dataframe thead th {\n",
       "        text-align: right;\n",
       "    }\n",
       "</style>\n",
       "<table border=\"1\" class=\"dataframe\">\n",
       "  <thead>\n",
       "    <tr style=\"text-align: right;\">\n",
       "      <th></th>\n",
       "      <th>BNB</th>\n",
       "      <th>DAI</th>\n",
       "      <th>FRAX</th>\n",
       "      <th>MIM</th>\n",
       "      <th>USDN</th>\n",
       "      <th>PAX</th>\n",
       "      <th>UST</th>\n",
       "      <th>USDT</th>\n",
       "      <th>USDC</th>\n",
       "      <th>TUSD</th>\n",
       "    </tr>\n",
       "    <tr>\n",
       "      <th>date</th>\n",
       "      <th></th>\n",
       "      <th></th>\n",
       "      <th></th>\n",
       "      <th></th>\n",
       "      <th></th>\n",
       "      <th></th>\n",
       "      <th></th>\n",
       "      <th></th>\n",
       "      <th></th>\n",
       "      <th></th>\n",
       "    </tr>\n",
       "  </thead>\n",
       "  <tbody>\n",
       "    <tr>\n",
       "      <th>2021-07-02</th>\n",
       "      <td>0.001524</td>\n",
       "      <td>-0.000116</td>\n",
       "      <td>-0.003278</td>\n",
       "      <td>0.000000</td>\n",
       "      <td>-0.003887</td>\n",
       "      <td>0.000017</td>\n",
       "      <td>0.000490</td>\n",
       "      <td>-0.002816</td>\n",
       "      <td>0.001647</td>\n",
       "      <td>0.000816</td>\n",
       "    </tr>\n",
       "    <tr>\n",
       "      <th>2021-07-03</th>\n",
       "      <td>-0.002150</td>\n",
       "      <td>0.004107</td>\n",
       "      <td>0.001674</td>\n",
       "      <td>0.003894</td>\n",
       "      <td>0.001314</td>\n",
       "      <td>0.000964</td>\n",
       "      <td>0.000401</td>\n",
       "      <td>0.002689</td>\n",
       "      <td>-0.001895</td>\n",
       "      <td>-0.000625</td>\n",
       "    </tr>\n",
       "    <tr>\n",
       "      <th>2021-07-04</th>\n",
       "      <td>-0.000092</td>\n",
       "      <td>-0.004004</td>\n",
       "      <td>-0.001392</td>\n",
       "      <td>-0.010381</td>\n",
       "      <td>-0.000961</td>\n",
       "      <td>-0.001048</td>\n",
       "      <td>0.000912</td>\n",
       "      <td>-0.001094</td>\n",
       "      <td>-0.000474</td>\n",
       "      <td>0.002302</td>\n",
       "    </tr>\n",
       "    <tr>\n",
       "      <th>2021-07-05</th>\n",
       "      <td>-0.000942</td>\n",
       "      <td>-0.004577</td>\n",
       "      <td>-0.003349</td>\n",
       "      <td>0.003030</td>\n",
       "      <td>-0.001941</td>\n",
       "      <td>-0.001396</td>\n",
       "      <td>-0.003175</td>\n",
       "      <td>-0.008053</td>\n",
       "      <td>-0.001438</td>\n",
       "      <td>-0.004425</td>\n",
       "    </tr>\n",
       "    <tr>\n",
       "      <th>2021-07-06</th>\n",
       "      <td>-0.003048</td>\n",
       "      <td>0.007519</td>\n",
       "      <td>-0.002265</td>\n",
       "      <td>-0.005440</td>\n",
       "      <td>-0.003721</td>\n",
       "      <td>-0.001488</td>\n",
       "      <td>-0.002653</td>\n",
       "      <td>0.008726</td>\n",
       "      <td>0.000501</td>\n",
       "      <td>-0.003589</td>\n",
       "    </tr>\n",
       "  </tbody>\n",
       "</table>\n",
       "</div>"
      ],
      "text/plain": [
       "                 BNB       DAI      FRAX       MIM      USDN       PAX  \\\n",
       "date                                                                     \n",
       "2021-07-02  0.001524 -0.000116 -0.003278  0.000000 -0.003887  0.000017   \n",
       "2021-07-03 -0.002150  0.004107  0.001674  0.003894  0.001314  0.000964   \n",
       "2021-07-04 -0.000092 -0.004004 -0.001392 -0.010381 -0.000961 -0.001048   \n",
       "2021-07-05 -0.000942 -0.004577 -0.003349  0.003030 -0.001941 -0.001396   \n",
       "2021-07-06 -0.003048  0.007519 -0.002265 -0.005440 -0.003721 -0.001488   \n",
       "\n",
       "                 UST      USDT      USDC      TUSD  \n",
       "date                                                \n",
       "2021-07-02  0.000490 -0.002816  0.001647  0.000816  \n",
       "2021-07-03  0.000401  0.002689 -0.001895 -0.000625  \n",
       "2021-07-04  0.000912 -0.001094 -0.000474  0.002302  \n",
       "2021-07-05 -0.003175 -0.008053 -0.001438 -0.004425  \n",
       "2021-07-06 -0.002653  0.008726  0.000501 -0.003589  "
      ]
     },
     "execution_count": 26,
     "metadata": {},
     "output_type": "execute_result"
    }
   ],
   "source": [
    "# Use the `pct_change` function to calculate daily returns of closing prices for each column\n",
    "stable_coin_daily_returns = combined_stable_coins_df.pct_change().dropna()\n",
    "stable_coin_daily_returns.head()"
   ]
  },
  {
   "cell_type": "markdown",
   "id": "4e06ede5-fdc2-4e4b-b1a4-6ed351f9d6d1",
   "metadata": {},
   "source": [
    "### Evaluate Riskiness of Stocks"
   ]
  },
  {
   "cell_type": "code",
   "execution_count": 27,
   "id": "2b0cfcd9-638d-4711-82cc-32a700a9be16",
   "metadata": {},
   "outputs": [
    {
     "data": {
      "text/plain": [
       "USDC    0.041331\n",
       "USDT    0.043255\n",
       "TUSD    0.043830\n",
       "BNB     0.044395\n",
       "UST     0.046606\n",
       "DAI     0.046806\n",
       "PAX     0.047339\n",
       "MIM     0.071748\n",
       "FRAX    0.089769\n",
       "USDN    0.230765\n",
       "dtype: float64"
      ]
     },
     "execution_count": 27,
     "metadata": {},
     "output_type": "execute_result"
    }
   ],
   "source": [
    "# Use the `std` function and multiply by the square root of the number of trading days in a year to get annualized volatility\n",
    "volatility = stable_coin_daily_returns.std() * np.sqrt(252)\n",
    "volatility.sort_values(inplace=True)\n",
    "volatility"
   ]
  },
  {
   "cell_type": "markdown",
   "id": "6a759f2c-1dad-47ea-94e7-fbe07a33b002",
   "metadata": {},
   "source": [
    "### Drop High Volatility Stocks"
   ]
  },
  {
   "cell_type": "code",
   "execution_count": 36,
   "id": "d34cee83-aa91-45a2-9ff3-ea7fdd6ebc06",
   "metadata": {},
   "outputs": [
    {
     "data": {
      "text/html": [
       "<div>\n",
       "<style scoped>\n",
       "    .dataframe tbody tr th:only-of-type {\n",
       "        vertical-align: middle;\n",
       "    }\n",
       "\n",
       "    .dataframe tbody tr th {\n",
       "        vertical-align: top;\n",
       "    }\n",
       "\n",
       "    .dataframe thead th {\n",
       "        text-align: right;\n",
       "    }\n",
       "</style>\n",
       "<table border=\"1\" class=\"dataframe\">\n",
       "  <thead>\n",
       "    <tr style=\"text-align: right;\">\n",
       "      <th></th>\n",
       "      <th>BNB</th>\n",
       "      <th>DAI</th>\n",
       "      <th>FRAX</th>\n",
       "      <th>MIM</th>\n",
       "      <th>PAX</th>\n",
       "      <th>UST</th>\n",
       "      <th>USDT</th>\n",
       "      <th>USDC</th>\n",
       "      <th>TUSD</th>\n",
       "    </tr>\n",
       "    <tr>\n",
       "      <th>date</th>\n",
       "      <th></th>\n",
       "      <th></th>\n",
       "      <th></th>\n",
       "      <th></th>\n",
       "      <th></th>\n",
       "      <th></th>\n",
       "      <th></th>\n",
       "      <th></th>\n",
       "      <th></th>\n",
       "    </tr>\n",
       "  </thead>\n",
       "  <tbody>\n",
       "    <tr>\n",
       "      <th>2021-07-02</th>\n",
       "      <td>0.001524</td>\n",
       "      <td>-0.000116</td>\n",
       "      <td>-0.003278</td>\n",
       "      <td>0.000000</td>\n",
       "      <td>0.000017</td>\n",
       "      <td>0.000490</td>\n",
       "      <td>-0.002816</td>\n",
       "      <td>0.001647</td>\n",
       "      <td>0.000816</td>\n",
       "    </tr>\n",
       "    <tr>\n",
       "      <th>2021-07-03</th>\n",
       "      <td>-0.002150</td>\n",
       "      <td>0.004107</td>\n",
       "      <td>0.001674</td>\n",
       "      <td>0.003894</td>\n",
       "      <td>0.000964</td>\n",
       "      <td>0.000401</td>\n",
       "      <td>0.002689</td>\n",
       "      <td>-0.001895</td>\n",
       "      <td>-0.000625</td>\n",
       "    </tr>\n",
       "    <tr>\n",
       "      <th>2021-07-04</th>\n",
       "      <td>-0.000092</td>\n",
       "      <td>-0.004004</td>\n",
       "      <td>-0.001392</td>\n",
       "      <td>-0.010381</td>\n",
       "      <td>-0.001048</td>\n",
       "      <td>0.000912</td>\n",
       "      <td>-0.001094</td>\n",
       "      <td>-0.000474</td>\n",
       "      <td>0.002302</td>\n",
       "    </tr>\n",
       "    <tr>\n",
       "      <th>2021-07-05</th>\n",
       "      <td>-0.000942</td>\n",
       "      <td>-0.004577</td>\n",
       "      <td>-0.003349</td>\n",
       "      <td>0.003030</td>\n",
       "      <td>-0.001396</td>\n",
       "      <td>-0.003175</td>\n",
       "      <td>-0.008053</td>\n",
       "      <td>-0.001438</td>\n",
       "      <td>-0.004425</td>\n",
       "    </tr>\n",
       "    <tr>\n",
       "      <th>2021-07-06</th>\n",
       "      <td>-0.003048</td>\n",
       "      <td>0.007519</td>\n",
       "      <td>-0.002265</td>\n",
       "      <td>-0.005440</td>\n",
       "      <td>-0.001488</td>\n",
       "      <td>-0.002653</td>\n",
       "      <td>0.008726</td>\n",
       "      <td>0.000501</td>\n",
       "      <td>-0.003589</td>\n",
       "    </tr>\n",
       "  </tbody>\n",
       "</table>\n",
       "</div>"
      ],
      "text/plain": [
       "                 BNB       DAI      FRAX       MIM       PAX       UST  \\\n",
       "date                                                                     \n",
       "2021-07-02  0.001524 -0.000116 -0.003278  0.000000  0.000017  0.000490   \n",
       "2021-07-03 -0.002150  0.004107  0.001674  0.003894  0.000964  0.000401   \n",
       "2021-07-04 -0.000092 -0.004004 -0.001392 -0.010381 -0.001048  0.000912   \n",
       "2021-07-05 -0.000942 -0.004577 -0.003349  0.003030 -0.001396 -0.003175   \n",
       "2021-07-06 -0.003048  0.007519 -0.002265 -0.005440 -0.001488 -0.002653   \n",
       "\n",
       "                USDT      USDC      TUSD  \n",
       "date                                      \n",
       "2021-07-02 -0.002816  0.001647  0.000816  \n",
       "2021-07-03  0.002689 -0.001895 -0.000625  \n",
       "2021-07-04 -0.001094 -0.000474  0.002302  \n",
       "2021-07-05 -0.008053 -0.001438 -0.004425  \n",
       "2021-07-06  0.008726  0.000501 -0.003589  "
      ]
     },
     "execution_count": 36,
     "metadata": {},
     "output_type": "execute_result"
    }
   ],
   "source": [
    "# Drop the five stocks with the highest volatility in daily returns\n",
    "stable_coin_daily_returns.drop(columns=['USDN'], inplace=True)\n",
    "stable_coin_daily_returns.head()"
   ]
  },
  {
   "cell_type": "markdown",
   "id": "33387bad-2816-4e9c-af4a-4a789df6167e",
   "metadata": {},
   "source": [
    "## Calculate Daily Portfolio Returns"
   ]
  },
  {
   "cell_type": "code",
   "execution_count": 38,
   "id": "354b8028-210f-4b22-b8e5-fd831ab82006",
   "metadata": {},
   "outputs": [
    {
     "data": {
      "text/plain": [
       "date\n",
       "2021-07-02   -0.001434\n",
       "2021-07-03    0.004134\n",
       "2021-07-04   -0.006373\n",
       "2021-07-05   -0.013363\n",
       "2021-07-06   -0.001028\n",
       "Freq: D, dtype: float64"
      ]
     },
     "execution_count": 38,
     "metadata": {},
     "output_type": "execute_result"
    }
   ],
   "source": [
    "# Use the `dot` function to multiply the weights by each stock's daily return to get the portfolio daily return\n",
    "weights = [0.6, 0.4, 0.6, 0.4, 0.6, 0.4, 0.6, 0.4, 0.6]\n",
    "\n",
    "portfolio_returns = stable_coin_daily_returns.dot(weights)\n",
    "portfolio_returns.head()"
   ]
  },
  {
   "cell_type": "markdown",
   "id": "7cf44f72-54b9-4581-9989-da76b29f8450",
   "metadata": {},
   "source": [
    "## Plot Daily Portfolio Returns"
   ]
  },
  {
   "cell_type": "code",
   "execution_count": 39,
   "id": "0fc5126a-839d-49f2-96b9-55e087119035",
   "metadata": {},
   "outputs": [
    {
     "data": {
      "text/plain": [
       "<AxesSubplot:xlabel='date'>"
      ]
     },
     "execution_count": 39,
     "metadata": {},
     "output_type": "execute_result"
    },
    {
     "data": {
      "image/png": "[encoded data removed]",
      "text/plain": [
       "<Figure size 432x288 with 1 Axes>"
      ]
     },
     "metadata": {
      "needs_background": "light"
     },
     "output_type": "display_data"
    }
   ],
   "source": [
    "# Use the `plot` function to plot the daily portfolio returns\n",
    "portfolio_returns.plot()"
   ]
  },
  {
   "cell_type": "markdown",
   "id": "b6cd6bbc-7320-4e85-8253-7629b8a74623",
   "metadata": {},
   "source": [
    "## Calculate Cumulative Portfolio Returns"
   ]
  },
  {
   "cell_type": "code",
   "execution_count": 40,
   "id": "6ca29b85-a1fa-4d83-ac5b-aba435642291",
   "metadata": {},
   "outputs": [
    {
     "data": {
      "text/plain": [
       "date\n",
       "2021-07-02   -0.001434\n",
       "2021-07-03    0.002693\n",
       "2021-07-04   -0.003696\n",
       "2021-07-05   -0.017010\n",
       "2021-07-06   -0.018020\n",
       "Freq: D, dtype: float64"
      ]
     },
     "execution_count": 40,
     "metadata": {},
     "output_type": "execute_result"
    }
   ],
   "source": [
    "# Use the `cumprod` function to cumulatively multiply each element in the Series by it's preceding element until the end\n",
    "cumulative_returns = (1 + portfolio_returns).cumprod() - 1\n",
    "cumulative_returns.head()"
   ]
  },
  {
   "cell_type": "markdown",
   "id": "1dfeb864-868a-40b2-b41d-364a20c9fa58",
   "metadata": {},
   "source": [
    "## Plot Cumulative Portfolio Returns"
   ]
  },
  {
   "cell_type": "code",
   "execution_count": 41,
   "id": "cffc4493-6721-4660-aec3-cbf9a0432a3b",
   "metadata": {},
   "outputs": [
    {
     "data": {
      "text/plain": [
       "<AxesSubplot:xlabel='date'>"
      ]
     },
     "execution_count": 41,
     "metadata": {},
     "output_type": "execute_result"
    },
    {
     "data": {
      "image/png": "[encoded data removed]",
      "text/plain": [
       "<Figure size 432x288 with 1 Axes>"
      ]
     },
     "metadata": {
      "needs_background": "light"
     },
     "output_type": "display_data"
    }
   ],
   "source": [
    "# Use the `plot` function to plot the cumulative portfolio returns\n",
    "cumulative_returns.plot()"
   ]
  },
  {
   "cell_type": "markdown",
   "id": "30042516-cb30-4d31-b23e-542a0d1be24f",
   "metadata": {},
   "source": [
    "## Calculate std dev for all stable coins"
   ]
  },
  {
   "cell_type": "code",
   "execution_count": 42,
   "id": "c703f524-74b3-4bd6-b840-423716557285",
   "metadata": {},
   "outputs": [
    {
     "data": {
      "text/plain": [
       "BNB     0.002797\n",
       "DAI     0.002948\n",
       "FRAX    0.005655\n",
       "MIM     0.004520\n",
       "PAX     0.002982\n",
       "UST     0.002936\n",
       "USDT    0.002725\n",
       "USDC    0.002604\n",
       "TUSD    0.002761\n",
       "dtype: float64"
      ]
     },
     "execution_count": 42,
     "metadata": {},
     "output_type": "execute_result"
    }
   ],
   "source": [
    "# Calculate std dev\n",
    "stable_coin_std = stable_coin_daily_returns.std()\n",
    "stable_coin_std"
   ]
  },
  {
   "cell_type": "markdown",
   "id": "4d97e95d-c6b2-4ea4-913f-85dc1ae5c7ac",
   "metadata": {},
   "source": [
    "## Calculate sharpe ratio for all data"
   ]
  },
  {
   "cell_type": "code",
   "execution_count": 43,
   "id": "d62438e6-880b-4f2a-b596-c179e4c854ad",
   "metadata": {},
   "outputs": [
    {
     "data": {
      "text/plain": [
       "BNB    -0.069107\n",
       "DAI    -0.009681\n",
       "FRAX   -0.019514\n",
       "MIM     0.012017\n",
       "PAX    -0.027905\n",
       "dtype: float64"
      ]
     },
     "execution_count": 43,
     "metadata": {},
     "output_type": "execute_result"
    }
   ],
   "source": [
    "# Calculate sharpe ratio\n",
    "sharpe_ratios = (stable_coin_daily_returns.mean() * 252) / (stable_coin_std * np.sqrt(252))\n",
    "sharpe_ratios.head()"
   ]
  },
  {
   "cell_type": "markdown",
   "id": "834668bf-85c8-468c-bc57-6d896666e9cc",
   "metadata": {},
   "source": [
    "## Plot Sharpe Ratios"
   ]
  },
  {
   "cell_type": "code",
   "execution_count": 44,
   "id": "85b834d6-18e2-40a5-8169-fbe1a78ec397",
   "metadata": {},
   "outputs": [
    {
     "data": {
      "text/plain": [
       "<AxesSubplot:title={'center':'Sharpe Ratios'}>"
      ]
     },
     "execution_count": 44,
     "metadata": {},
     "output_type": "execute_result"
    },
    {
     "data": {
      "image/png": "[encoded data removed]",
      "text/plain": [
       "<Figure size 432x288 with 1 Axes>"
      ]
     },
     "metadata": {
      "needs_background": "light"
     },
     "output_type": "display_data"
    }
   ],
   "source": [
    "# Plot\n",
    "sharpe_ratios.plot.bar(title='Sharpe Ratios')"
   ]
  },
  {
   "cell_type": "code",
   "execution_count": null,
   "id": "26c44109-f698-4404-8b0e-a8915b668b27",
   "metadata": {},
   "outputs": [],
   "source": []
  },
  {
   "cell_type": "code",
   "execution_count": null,
   "id": "ab604380-5ea2-4e1c-a23a-555dd817b400",
   "metadata": {},
   "outputs": [],
   "source": []
  },
  {
   "cell_type": "code",
   "execution_count": null,
   "id": "aab26b08-ea13-4744-a576-dca6575fc43e",
   "metadata": {},
   "outputs": [],
   "source": []
  }
 ],
 "metadata": {
  "kernelspec": {
   "display_name": "dev",
   "language": "python",
   "name": "dev"
  },
  "language_info": {
   "codemirror_mode": {
    "name": "ipython",
    "version": 3
   },
   "file_extension": ".py",
   "mimetype": "text/x-python",
   "name": "python",
   "nbconvert_exporter": "python",
   "pygments_lexer": "ipython3",
   "version": "3.7.11"
  }
 },
 "nbformat": 4,
 "nbformat_minor": 5
}
